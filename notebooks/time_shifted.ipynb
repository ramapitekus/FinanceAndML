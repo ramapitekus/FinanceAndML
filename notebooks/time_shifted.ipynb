{
 "cells": [
  {
   "cell_type": "code",
   "execution_count": null,
   "id": "8cae5982",
   "metadata": {
    "scrolled": true
   },
   "outputs": [],
   "source": [
    "import pandas as pd\n",
    "import seaborn as sns\n",
    "import os\n",
    "from os import path\n",
    "import matplotlib.pyplot as plt\n",
    "from sklearn.ensemble import RandomForestClassifier\n",
    "from sklearn.feature_selection import SelectFromModel"
   ]
  },
  {
   "cell_type": "code",
   "execution_count": null,
   "id": "33489b09",
   "metadata": {},
   "outputs": [],
   "source": [
    "#Feature Selection: Random Forest - creates a number of decision trees (default: 100)\n",
    "\n",
    "#wherein a sample of the dataframe is trained and an output is generated. The outputs of \n",
    "\n",
    "#all decision trees are aggregated and then, using a majority vote, the final output is\n",
    "\n",
    "#produced."
   ]
  },
  {
   "cell_type": "code",
   "execution_count": null,
   "id": "5a0135bc",
   "metadata": {},
   "outputs": [],
   "source": [
    "df = pd.read_csv(\"../data/cleaned/cleaned_indicators-01-04-2013-01-01-2017.csv\")"
   ]
  },
  {
   "cell_type": "code",
   "execution_count": null,
   "id": "bc236507",
   "metadata": {},
   "outputs": [],
   "source": [
    "df.shape"
   ]
  },
  {
   "cell_type": "code",
   "execution_count": null,
   "id": "2233738a",
   "metadata": {},
   "outputs": [],
   "source": [
    "df.head()"
   ]
  },
  {
   "cell_type": "code",
   "execution_count": null,
   "id": "9366e217",
   "metadata": {},
   "outputs": [],
   "source": [
    "df['bitcoin-price_raw_1d'] = df.iloc[:,2].shift(-1)"
   ]
  },
  {
   "cell_type": "code",
   "execution_count": null,
   "id": "55ec0f73",
   "metadata": {},
   "outputs": [],
   "source": [
    "df['bitcoin-price_raw_7d'] = df.iloc[:,2].shift(-7)"
   ]
  },
  {
   "cell_type": "code",
   "execution_count": null,
   "id": "e7989cc6",
   "metadata": {},
   "outputs": [],
   "source": [
    "df['bitcoin-price_raw_30d'] = df.iloc[:,2].shift(-30)"
   ]
  },
  {
   "cell_type": "code",
   "execution_count": null,
   "id": "163cc61a",
   "metadata": {},
   "outputs": [],
   "source": [
    "df['bitcoin-price_raw_90d'] = df.iloc[:,2].shift(-90)"
   ]
  },
  {
   "cell_type": "code",
   "execution_count": null,
   "id": "86e1979c",
   "metadata": {},
   "outputs": [],
   "source": [
    "df.head()"
   ]
  },
  {
   "cell_type": "code",
   "execution_count": null,
   "id": "0bb800e2",
   "metadata": {},
   "outputs": [],
   "source": [
    "#1d price change:1=price increase or unchanged, 0=otherwise\n",
    "df.loc[df['bitcoin-price_raw_1d'] >= df['bitcoin-price_raw'], '1d price higher or unchanged?'] = 1\n",
    "df.loc[df['bitcoin-price_raw_1d'] < df['bitcoin-price_raw'], '1d price higher or unchanged?'] = 0\n",
    "\n",
    "#7d price change:1=price increase or unchanged, 0=otherwise\n",
    "df.loc[df['bitcoin-price_raw_7d'] >= df['bitcoin-price_raw'], '7d price higher or unchanged?'] = 1\n",
    "df.loc[df['bitcoin-price_raw_7d'] < df['bitcoin-price_raw'], '7d price higher or unchanged?'] = 0\n",
    "\n",
    "#30d price change:1=price increase or unchanged, 0=otherwise\n",
    "df.loc[df['bitcoin-price_raw_30d'] >= df['bitcoin-price_raw'], '30d price higher or unchanged?'] = 1\n",
    "df.loc[df['bitcoin-price_raw_30d'] < df['bitcoin-price_raw'], '30d price higher or unchanged?'] = 0\n",
    "\n",
    "#90d price change:1=price increase or unchanged, 0=otherwise\n",
    "df.loc[df['bitcoin-price_raw_90d'] >= df['bitcoin-price_raw'], '90d price higher or unchanged?'] = 1\n",
    "df.loc[df['bitcoin-price_raw_90d'] < df['bitcoin-price_raw'], '90d price higher or unchanged?'] = 0"
   ]
  },
  {
   "cell_type": "code",
   "execution_count": null,
   "id": "24403ce6",
   "metadata": {},
   "outputs": [],
   "source": [
    "df.head()"
   ]
  },
  {
   "cell_type": "code",
   "execution_count": null,
   "id": "d8447cd6",
   "metadata": {},
   "outputs": [],
   "source": []
  }
 ],
 "metadata": {
  "kernelspec": {
   "display_name": "Python 3",
   "language": "python",
   "name": "python3"
  },
  "language_info": {
   "codemirror_mode": {
    "name": "ipython",
    "version": 3
   },
   "file_extension": ".py",
   "mimetype": "text/x-python",
   "name": "python",
   "nbconvert_exporter": "python",
   "pygments_lexer": "ipython3",
   "version": "3.8.8"
  }
 },
 "nbformat": 4,
 "nbformat_minor": 5
}
